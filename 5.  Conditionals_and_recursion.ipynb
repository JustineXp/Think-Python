{
 "cells": [
  {
   "cell_type": "code",
   "execution_count": 8,
   "id": "5d804c27-a814-441c-9725-77ed295caa83",
   "metadata": {},
   "outputs": [
    {
     "data": {
      "text/plain": [
       "1"
      ]
     },
     "execution_count": 8,
     "metadata": {},
     "output_type": "execute_result"
    }
   ],
   "source": [
    "# CONDITIONALS and RECUSSION\n",
    "# The modulus operator works on integers and yields the remainder when the first operand is divided by the second.\n",
    "# Modulus is represented by the % symbol\n",
    "# Exaxmple:\n",
    "remainder = 7 % 3\n",
    "remainder\n",
    "\n",
    "#  you can check whether one number is divisible by another—if x % y is zero\n",
    "# you can extract the right-most digit or digits from a number. For example, x % 10\n",
    "# yields the right-most digit of x (in base 10). Similarly x % 100 yields the last two digits.\n",
    "# Example:\n",
    "# 321%10 = 1\n",
    "# 321%100 = 21\n"
   ]
  },
  {
   "cell_type": "code",
   "execution_count": 13,
   "id": "fde66aa1-8b59-43c6-9a12-80ffc4aa7db8",
   "metadata": {},
   "outputs": [
    {
     "data": {
      "text/plain": [
       "False"
      ]
     },
     "execution_count": 13,
     "metadata": {},
     "output_type": "execute_result"
    }
   ],
   "source": [
    "# BOOLEAN EXPRESSIONS\n",
    "# Aboolean expression is an expression that is either true or false.\n",
    "# the operator == us used in the comparison for a boolean expression\n",
    "# Example:\n",
    "5 == 5 #True\n",
    "5 == 6 #False\n",
    "\n",
    "# True and False are special values that belong to the type bool;\n",
    "# The == operator is one of the relational operators; the others are:\n",
    "    # x != y  x is not equal to y\n",
    "    # x > y   x is greater than y\n",
    "    # x < y   x is less than y\n",
    "    # x >= y  x is greater than or equal to y\n",
    "    # x <= y  x is less than or equal to y\n",
    "\n"
   ]
  },
  {
   "cell_type": "code",
   "execution_count": 14,
   "id": "3460dbed-b9cc-4762-b7f4-47db7e5e9576",
   "metadata": {},
   "outputs": [
    {
     "data": {
      "text/plain": [
       "True"
      ]
     },
     "execution_count": 14,
     "metadata": {},
     "output_type": "execute_result"
    }
   ],
   "source": [
    "# LOGICAL OPERATORS\n",
    "# There are three logical operators: \n",
    "    # and, \n",
    "    # or, \n",
    "    # not. \n",
    "\n",
    "# Example\n",
    "# x > 0 and x < 10 is true only if x is greater than 0 and less than 10.\n",
    "# n%2 == 0 or n%3 == 0 is true if either of the conditions is true, that is, if the number is divisible by 2 or 3.\n",
    "# Finally, the not operator negates a boolean expression, \n",
    "#     so not (x > y) is true if x > y is false, that is, if x is less than or equal to y.\n",
    "#  the operands of the logical operators should be boolean expressions,\n",
    "#  Python is not very strict. Any nonzero number is interpreted as “true.”\n",
    "\n",
    "# Example:\n",
    "17 and True # results as True"
   ]
  },
  {
   "cell_type": "code",
   "execution_count": 21,
   "id": "0a57b2b3-42cc-4422-8534-2d3432fd76d5",
   "metadata": {},
   "outputs": [
    {
     "name": "stdout",
     "output_type": "stream",
     "text": [
      "X is Postive\n"
     ]
    }
   ],
   "source": [
    "# CONDITIONAL EXECUTION\n",
    "# We almost always need the ability to check conditions and change the behavior of the program accordingly\n",
    "# Example:\n",
    "x=4\n",
    "if x > 0:\n",
    "    print('X is Postive')\n",
    "\n",
    "# The boolean expression after if is called the condition. \n",
    "# If it is true, then the indented statement gets executed. \n",
    "# If not, nothing happens.\n",
    "# if statements have the same structure as function definitions: \n",
    "# a header followed by an indented body. \n",
    "# Statements like this are called compound statements.\n",
    "\n",
    "# There is no limit on the number of statements that can appear in the body, \n",
    "# but there has to be at least one. \n",
    "# Occasionally, it is useful to have a body with no statements \n",
    "# usually as a placehoder for code youhaven’t written yet. \n",
    "# In that case, the pass statement, is used\n",
    "\n",
    "# Example:\n",
    "if x < 0:\n",
    "    pass\n",
    "\n"
   ]
  },
  {
   "cell_type": "code",
   "execution_count": null,
   "id": "83ffd6ba-eba6-4ef2-9478-0a62831ede6d",
   "metadata": {},
   "outputs": [],
   "source": [
    "# ALTERNATIVE EXECUTION\n",
    "\n",
    "\n"
   ]
  }
 ],
 "metadata": {
  "kernelspec": {
   "display_name": "Python 3 (ipykernel)",
   "language": "python",
   "name": "python3"
  },
  "language_info": {
   "codemirror_mode": {
    "name": "ipython",
    "version": 3
   },
   "file_extension": ".py",
   "mimetype": "text/x-python",
   "name": "python",
   "nbconvert_exporter": "python",
   "pygments_lexer": "ipython3",
   "version": "3.13.2"
  }
 },
 "nbformat": 4,
 "nbformat_minor": 5
}
