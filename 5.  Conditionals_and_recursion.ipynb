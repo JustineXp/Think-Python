{
 "cells": [
  {
   "cell_type": "code",
   "execution_count": null,
   "id": "5d804c27-a814-441c-9725-77ed295caa83",
   "metadata": {},
   "outputs": [],
   "source": []
  }
 ],
 "metadata": {
  "kernelspec": {
   "display_name": "",
   "name": ""
  },
  "language_info": {
   "name": ""
  }
 },
 "nbformat": 4,
 "nbformat_minor": 5
}
