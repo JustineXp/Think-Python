{
 "cells": [
  {
   "cell_type": "code",
   "execution_count": 25,
   "id": "d983b796-9cab-40b3-9add-d4fcaa53d17f",
   "metadata": {},
   "outputs": [],
   "source": [
    "# VALUES & VARIABLES\n",
    "# A value is a basic thing that a program works with.\n",
    "# Examples are like 1, 2, 'Hello World'\n",
    "# 1, 2 are Integers\n",
    "# 'Hello World' is a string\n",
    "\n",
    "# To check the type  of a Value we use : type()"
   ]
  },
  {
   "cell_type": "code",
   "execution_count": 16,
   "id": "42455c9c-4de6-45d6-ae85-8f220113f79c",
   "metadata": {},
   "outputs": [
    {
     "data": {
      "text/plain": [
       "str"
      ]
     },
     "execution_count": 16,
     "metadata": {},
     "output_type": "execute_result"
    }
   ],
   "source": [
    "#Example\n",
    "type('Hello world')"
   ]
  },
  {
   "cell_type": "code",
   "execution_count": 17,
   "id": "e220b6f2-ae34-469d-9a83-102fc80b865a",
   "metadata": {},
   "outputs": [
    {
     "data": {
      "text/plain": [
       "int"
      ]
     },
     "execution_count": 17,
     "metadata": {},
     "output_type": "execute_result"
    }
   ],
   "source": [
    "#Example\n",
    "type(12)"
   ]
  },
  {
   "cell_type": "code",
   "execution_count": 9,
   "id": "5cfc19a1-bf25-407b-ae4c-b36f0bacc8ef",
   "metadata": {},
   "outputs": [
    {
     "data": {
      "text/plain": [
       "float"
      ]
     },
     "execution_count": 9,
     "metadata": {},
     "output_type": "execute_result"
    }
   ],
   "source": [
    "#Example\n",
    "type(3.2)\n"
   ]
  },
  {
   "cell_type": "code",
   "execution_count": 10,
   "id": "d3031e11-aad8-4bc6-be42-b1debb817e89",
   "metadata": {},
   "outputs": [
    {
     "data": {
      "text/plain": [
       "(1, 0, 0)"
      ]
     },
     "execution_count": 10,
     "metadata": {},
     "output_type": "execute_result"
    }
   ],
   "source": [
    "# When typing a large integer, like 1000000, do not separate the thousands with commas as in normal text\n",
    "1,000,000"
   ]
  },
  {
   "cell_type": "code",
   "execution_count": 4,
   "id": "f215ee01-aa61-4fc2-a290-6a7f5b72f5ff",
   "metadata": {},
   "outputs": [
    {
     "data": {
      "text/plain": [
       "str"
      ]
     },
     "execution_count": 4,
     "metadata": {},
     "output_type": "execute_result"
    }
   ],
   "source": [
    "# Any value enclosed in quotemarks is conidered a string even if it is a number.\n",
    "# Example\n",
    "type('123')\n"
   ]
  },
  {
   "cell_type": "code",
   "execution_count": 7,
   "id": "3030bd1c-405d-4eb1-9f48-049e33b33a20",
   "metadata": {},
   "outputs": [],
   "source": [
    "# VARIABLES\n",
    "# A Variable is a name that represents a value.\n",
    "# An assignment statement creates a variable and gives it a value\n",
    "\n",
    "# Example\n",
    "message = 'My name is Justine'\n",
    "age=30\n",
    "pi=3.14159\n",
    "\n",
    "# A common way to represent variables on paper is to write the name with a narrow pointing\n",
    "# to the variable’s value. \n",
    "# This kind of figure is called a state diagram"
   ]
  },
  {
   "cell_type": "code",
   "execution_count": null,
   "id": "d7378639-f466-41ac-8361-3ac478b1e6d3",
   "metadata": {},
   "outputs": [],
   "source": [
    "# # VARIABLES & KEYWORDS\n",
    "# Varible name shold be meaningful\n",
    "# They can be arbitrarily long\n",
    "# They can contain both letters and numbers\n",
    "# They can only begin with lettters\n",
    "# Uppercase letters are allowed but it is a good idea to start the name with a lowercase letter\n",
    "# _ character can be used to name variables with multiple words\n",
    "\n",
    "# Illegal varible name generate syntax errors\n",
    "# There are key words that cannot be used to name variables. \n",
    "# The words are :\n",
    "    #  and as assert break\n",
    "    #  class del elif else\n",
    "    #  except raise return\n",
    "    #  exec from global\n",
    "    #  if import in\n",
    "    #  continue finally is\n",
    "    #  def for lambda\n",
    "    #  not or pass print\n",
    "    #  try while with yield"
   ]
  },
  {
   "cell_type": "code",
   "execution_count": null,
   "id": "1fab15b8-7fb5-41db-b5a0-820a2c7640e3",
   "metadata": {},
   "outputs": [],
   "source": [
    "# OPERATORS AND OPERANDS\n",
    "# This are special symbols that represent addition and Multiplication\n",
    "# Operands are the values the operator is applied to\n",
    "# The operators +,-, *, / and ** perform addition, subtraction, multiplication, division and exponentiation"
   ]
  },
  {
   "cell_type": "code",
   "execution_count": null,
   "id": "8818a72e-d639-456c-b6b6-de80c601fe7f",
   "metadata": {},
   "outputs": [],
   "source": [
    "#EXPRESSIONS AND STATEMENTS\n",
    "# An expresion is a combination of values, variables and operators\n",
    "# Individual values or variables are considered expressions\n",
    "# A Statement is a unit of code that can be executed by the python interpreter\n",
    "# Main difference is that an Expression has a value while a statement does not have a value\n"
   ]
  },
  {
   "cell_type": "code",
   "execution_count": 21,
   "id": "03f86273-ffcd-48ca-88ce-dee4b04f7168",
   "metadata": {},
   "outputs": [
    {
     "data": {
      "text/plain": [
       "42.182"
      ]
     },
     "execution_count": 21,
     "metadata": {},
     "output_type": "execute_result"
    }
   ],
   "source": [
    "# INTERACTIVE MODE AND SCRIPT MODE\n",
    "# A statement has no effect in both modes.\n",
    "# But in Interactive mode an expression shows an Output.\n",
    "# Example:\n",
    "miles=26.2\n",
    "miles*1.61\n",
    "# This is interactive mode.\n",
    "# If we wrote this code in a script and run it it will not display any output\n",
    "# Unless we tell it to"
   ]
  },
  {
   "cell_type": "code",
   "execution_count": 24,
   "id": "e07fde10-96fa-4cad-a3b4-bb230e772a7a",
   "metadata": {},
   "outputs": [
    {
     "data": {
      "text/plain": [
       "6"
      ]
     },
     "execution_count": 24,
     "metadata": {},
     "output_type": "execute_result"
    }
   ],
   "source": [
    "5\n",
    "x=5\n",
    "x+1"
   ]
  },
  {
   "cell_type": "code",
   "execution_count": 6,
   "id": "aae0ba4e-7384-439c-aea5-e7fd34fb49c8",
   "metadata": {},
   "outputs": [],
   "source": [
    "# ORDER OF OPERATIONS\n",
    "    # When more that one operators are used in an expression, \n",
    "    # the order of evaluation depends on, rules of precedence\n",
    "    # The acronym PEMDAS is useful to remember this order.\n",
    "    # Parentheis\n",
    "    # Exponential\n",
    "    # Multiplication/Division\n",
    "    # Addition/Subtraction\n",
    "# Operators with sme precedence are evaluated from left to right\n",
    "    # BODMAS"
   ]
  },
  {
   "cell_type": "code",
   "execution_count": 11,
   "id": "fabb62b0-3d66-412a-86d7-c6c186fd951d",
   "metadata": {},
   "outputs": [
    {
     "data": {
      "text/plain": [
       "'KenyaKenyaKenya'"
      ]
     },
     "execution_count": 11,
     "metadata": {},
     "output_type": "execute_result"
    }
   ],
   "source": [
    "# STRING OPERATIONS\n",
    "# Mathematical operations cannot be performed on strings\n",
    "# Even if the string looks like a number\n",
    "# The + operator works on string to do CONCATENATION\n",
    "# This is the joining together of strings\n",
    "# Example:\n",
    "Firstname = 'Sauro'\n",
    "Lastname = 'Mayaka'\n",
    "Fullname=Firstname+Lastname # the output string is 'SauroMayaka'\n",
    "# The operator * also workd pn strings to do repetitions\n",
    "# Example:\n",
    "'Kenya'*3 #displays 'KenyaKenyaKenya'"
   ]
  },
  {
   "cell_type": "code",
   "execution_count": null,
   "id": "0b4182ff-0322-484d-83ef-78e9bc2f18a4",
   "metadata": {},
   "outputs": [],
   "source": [
    "# COMMENTS\n",
    "# It is recommemded to add notes and extra information to programs\n",
    "# This information help other developers in understanding the program\n",
    "# '#' is used in adding comments"
   ]
  },
  {
   "cell_type": "code",
   "execution_count": null,
   "id": "4f38ac1b-e2b8-49d3-a7f3-df5e34cac75e",
   "metadata": {},
   "outputs": [],
   "source": [
    "#  value: One of the basic units of data, like a number or string, that a program manipulates.\n",
    "#  type: A category of values. The types we have seen so far are integers (type int), floating\n",
    "# point numbers (type float), and strings (type str).\n",
    "#  integer: A type that represents whole numbers.\n",
    "#  f\n",
    "#  loating-point: A type that represents numbers with fractional parts.\n",
    "#  string: A type that represents sequences of characters.\n",
    "#  variable: A name that refers to a value.\n",
    "#  statement: A section of code that represents a command or action. So far, the statements\n",
    "#  wehave seen are assignments and print statements.\n",
    "#  assignment: A statement that assigns a value to a variable.\n",
    "#  state diagram: A graphical representation of a set of variables and the values they refer to.\n",
    "#  keyword: A reserved word that is used by the compiler to parse a program; you cannot\n",
    "#  use keywords like if, def, and while as variable names.\n",
    "#  operator: A special symbol that represents a simple computation like addition, multipli\n",
    "# cation, or string concatenation.\n",
    "#  operand: One of the values on which an operator operates.\n",
    "#  floor division: The operation that divides two numbers and chops off the fraction part.\n",
    "#  expression: A combination of variables, operators, and values that represents a single re\n",
    "# sult value.\n",
    "#  evaluate: To simplify an expression by performing the operations in order to yield a single\n",
    "#  value.\n",
    "#  rules of precedence: The set of rules governing the order in which expressions involving\n",
    "#  multiple operators and operands are evaluated.\n",
    "#  concatenate: To join two operands end-to-end.\n",
    "#  comment: Informationinaprogramthatismeantforotherprogrammers(oranyonereading the source code) and has no effect on the execution of the program."
   ]
  }
 ],
 "metadata": {
  "kernelspec": {
   "display_name": "Python 3 (ipykernel)",
   "language": "python",
   "name": "python3"
  },
  "language_info": {
   "codemirror_mode": {
    "name": "ipython",
    "version": 3
   },
   "file_extension": ".py",
   "mimetype": "text/x-python",
   "name": "python",
   "nbconvert_exporter": "python",
   "pygments_lexer": "ipython3",
   "version": "3.13.2"
  }
 },
 "nbformat": 4,
 "nbformat_minor": 5
}
