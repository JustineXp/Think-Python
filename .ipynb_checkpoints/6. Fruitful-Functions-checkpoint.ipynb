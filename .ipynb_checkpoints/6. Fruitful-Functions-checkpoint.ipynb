{
 "cells": [
  {
   "cell_type": "code",
   "execution_count": 1,
   "id": "7e473004-8429-4a9a-ba43-a558eebc1c80",
   "metadata": {},
   "outputs": [],
   "source": [
    "# RETURN VALUES\n",
    "# Functions be void fxns or Fruitful\n",
    "# Void fxns return nothing while Fruitful ones return a value\n",
    "# Example\n",
    "    # ex = math.exp(1.0)\n",
    "    # math.exp() return a value that is assigned to the variable ex\n",
    "\n",
    "# Examples of a user fxn that returns a value\n",
    "\n",
    "    # Example:\n",
    "    # def area(radius):\n",
    "    #     provisional_area = math.pi * area **2\n",
    "    #     return provisional_area\n",
    "\n",
    "    # Example 2:\n",
    "    # def area(l,w):\n",
    "    #     return l*w\n",
    "\n",
    "# return key word can return either a value or an expression\n",
    "# Once the return statement is executed the rest of the code after it is not executed\n",
    "# the code that is not executed is called DEAD CODE\n",
    "\n",
    "# Every posssible path in a Fruitful fxn should hit a Return statement.\n",
    "# Example:\n",
    "#     def absolute_value(x):\n",
    "#         if x < 0:\n",
    "#             return -x\n",
    "#         if x > 0:\n",
    "#             return x\n",
    "\n",
    "# the above example does not provide a return for all the possible paths of the fxn\n",
    "# the case if x == 0 is nor attended to\n",
    "# that means the if the cvalue od x is 0 then the function will return None value\n"
   ]
  },
  {
   "cell_type": "code",
   "execution_count": 6,
   "id": "41eaa44e-972f-445d-9b8f-845881c56ca3",
   "metadata": {},
   "outputs": [
    {
     "data": {
      "text/plain": [
       "5.0"
      ]
     },
     "execution_count": 6,
     "metadata": {},
     "output_type": "execute_result"
    }
   ],
   "source": [
    "import math\n",
    "# INCREMENTAL DEVELOPMENT\n",
    "# The goal of incremental development is to decrease debugging session time.\n",
    "# Example: Distance btn 2 points\n",
    "    # distance = square-root(((x2-x1)**2)+((y2-y1)**2))\n",
    "\n",
    "# Procedure:\n",
    "# version 1\n",
    "\n",
    "# def distance(x1, y1, x2, y2):\n",
    "#     return 0.0\n",
    "\n",
    "# version 2\n",
    "# def distance(x1, y1, x2, y2):\n",
    "#     dx = x2-x1\n",
    "#     dy = y2-y1\n",
    "\n",
    "#     print('dx is ', dx)\n",
    "#     print('dy is ', dy)\n",
    "\n",
    "#     return 0.0\n",
    "\n",
    "# version 3\n",
    "# def distance(x1, y1, x2, y2):\n",
    "#     dx = x2-x1\n",
    "#     dy = y2-y1\n",
    "#     d_squared = dx**2 + dy**2\n",
    "#     print('d_squared is ', d_squared)\n",
    "\n",
    "#     return 0.0\n",
    "\n",
    "# version 4\n",
    "def distance(x1, y1, x2, y2):\n",
    "    dx = x2-x1\n",
    "    dy = y2-y1\n",
    "    d_squared = dx**2 + dy**2\n",
    "    distance = math.sqrt(d_squared)\n",
    "\n",
    "    return distance # or return  math.sqrt(d_squared)\n",
    "    \n",
    "distance(1,2,4,6)\n",
    "\n",
    "# the print statements are called scaffolding, they are code used during development but not part of the final code\n",
    "\n"
   ]
  },
  {
   "cell_type": "code",
   "execution_count": 8,
   "id": "22cd0a28-3356-426a-93ec-a1f682ca5aa8",
   "metadata": {},
   "outputs": [
    {
     "data": {
      "text/plain": [
       "78.53981633974483"
      ]
     },
     "execution_count": 8,
     "metadata": {},
     "output_type": "execute_result"
    }
   ],
   "source": [
    "# COMPOSITION\n",
    "# This is the ability to call a fxn within another\n",
    "# Exercise to illustrate composition\n",
    "# You are given a center point corordinates and a point on the perimeter\n",
    "\n",
    "# center = (xc, yc)\n",
    "# point on perimeter = (xp, yp)\n",
    "\n",
    "# Calculate area of the circle:\n",
    "import math\n",
    "\n",
    "def distance(x1, y1, x2, y2):\n",
    "    dx = x2-x1\n",
    "    dy = y2-y1\n",
    "    d_squared = dx**2 + dy**2\n",
    "    return  math.sqrt(d_squared)\n",
    "\n",
    "def area(radius):\n",
    "    return math.pi * radius **2\n",
    "\n",
    "\n",
    "def circle_area(xc, yc, xp, yp):\n",
    "    radius = distance(xc, yc, xp, yp)\n",
    "    return area(radius)\n",
    "\n",
    "circle_area(1,2,4,6)\n"
   ]
  },
  {
   "cell_type": "code",
   "execution_count": 13,
   "id": "93fb3ece-b1ba-4d5b-adf9-0ea4b8dd57e0",
   "metadata": {},
   "outputs": [
    {
     "ename": "NameError",
     "evalue": "name 'x' is not defined",
     "output_type": "error",
     "traceback": [
      "\u001b[31m---------------------------------------------------------------------------\u001b[39m",
      "\u001b[31mNameError\u001b[39m                                 Traceback (most recent call last)",
      "\u001b[36mCell\u001b[39m\u001b[36m \u001b[39m\u001b[32mIn[13]\u001b[39m\u001b[32m, line 23\u001b[39m\n\u001b[32m     18\u001b[39m is_divisible(\u001b[32m98\u001b[39m,\u001b[32m3\u001b[39m)\n\u001b[32m     20\u001b[39m \u001b[38;5;66;03m# boolean fxns can be used in conditional statements\u001b[39;00m\n\u001b[32m     21\u001b[39m \u001b[38;5;66;03m# Example:\u001b[39;00m\n\u001b[32m---> \u001b[39m\u001b[32m23\u001b[39m \u001b[38;5;28;01mif\u001b[39;00m is_divisible(\u001b[43mx\u001b[49m,y):\n\u001b[32m     24\u001b[39m     \u001b[38;5;28mprint\u001b[39m(x, \u001b[33m'\u001b[39m\u001b[33m is divisible by \u001b[39m\u001b[33m'\u001b[39m, y)\n\u001b[32m     25\u001b[39m \u001b[38;5;28;01melse\u001b[39;00m:\n",
      "\u001b[31mNameError\u001b[39m: name 'x' is not defined"
     ]
    }
   ],
   "source": [
    "# BOOLEAN FUNCTIONS\n",
    "# Functions can return booleans\n",
    "# This is convinient for hiding complicated testes in fxn\n",
    "\n",
    "# Example:\n",
    "def is_divisible(x,y):\n",
    "    if x % y == 0:\n",
    "        return True\n",
    "    else:\n",
    "        return False\n",
    "\n",
    "# the result of the == operator is a boolean\n",
    "# the is-divisible fxn can be written in this format\n",
    "x=100\n",
    "y=2\n",
    "def is_divisible(x,y):\n",
    "    return x % y == 0\n",
    "\n",
    "is_divisible(98,3)\n",
    "\n",
    "# boolean fxns can be used in conditional statements\n",
    "# Example:\n",
    "\n",
    "if is_divisible(x,y):\n",
    "    print(x, ' is divisible by ', y)\n",
    "else:\n",
    "    print(x, ' is not divisible by ', y)\n",
    "\n",
    "# In the example below the == True part is a repetition and unnecessary\n",
    "if is_divisible(x,y) == True:\n",
    "    ...\n",
    "else:\n",
    "    ...\n",
    "\n"
   ]
  },
  {
   "cell_type": "code",
   "execution_count": null,
   "id": "b3d7a047-a8da-4f5a-8a2e-e66a3e45836d",
   "metadata": {},
   "outputs": [],
   "source": []
  }
 ],
 "metadata": {
  "kernelspec": {
   "display_name": "Python 3 (ipykernel)",
   "language": "python",
   "name": "python3"
  },
  "language_info": {
   "codemirror_mode": {
    "name": "ipython",
    "version": 3
   },
   "file_extension": ".py",
   "mimetype": "text/x-python",
   "name": "python",
   "nbconvert_exporter": "python",
   "pygments_lexer": "ipython3",
   "version": "3.13.2"
  }
 },
 "nbformat": 4,
 "nbformat_minor": 5
}
