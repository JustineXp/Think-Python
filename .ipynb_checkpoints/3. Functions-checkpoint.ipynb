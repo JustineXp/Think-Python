{
 "cells": [
  {
   "cell_type": "code",
   "execution_count": null,
   "id": "50121e2d-280d-4e0e-8eae-a33fe6269021",
   "metadata": {},
   "outputs": [],
   "source": [
    "# CHAPTER 3 : FUNCTIONS\n",
    "# A function is a named sequence of statements that is aimed at achieving a given objective\n",
    "# A function is defined with a name.\n",
    "# Then a sequence of statements is added to it and called to run it.\n",
    "# Example:\n",
    "type(32) # is a calling a function.\n",
    "# 'type' is the name of the the function\n",
    "\n",
    "# the value in the parenthesis is called an argument\n",
    "# the output of a function is called a return value"
   ]
  },
  {
   "cell_type": "code",
   "execution_count": 2,
   "id": "951c5d8e-ab73-496b-b74c-8b9a53ef9452",
   "metadata": {},
   "outputs": [
    {
     "data": {
      "text/plain": [
       "int"
      ]
     },
     "execution_count": 2,
     "metadata": {},
     "output_type": "execute_result"
    }
   ],
   "source": [
    "# TYPE CONVERSION FUNCTIONS\n",
    "# Python has inbuilt functions that convert one type to another\n",
    "# to convert a string to integer we use the int() function\n",
    "# Example: \n",
    "val='32' # the type of this value is a string\n",
    "converted_val=int(val) # it is converted into an int\n",
    "type(converted_val)\n",
    "\n",
    "# int() can convert floating-point values to integer by trancating the value after the period\n",
    "# Example:\n",
    "float_value = 3.999\n",
    "converted_float = int(float_value)\n",
    "type(converted_float)"
   ]
  },
  {
   "cell_type": "code",
   "execution_count": 9,
   "id": "1c3be027-5586-40e3-ba74-74ba90efd5b5",
   "metadata": {},
   "outputs": [
    {
     "name": "stdout",
     "output_type": "stream",
     "text": [
      "3.0\n",
      "4.0\n"
     ]
    }
   ],
   "source": [
    "# MATH FUNCTIONS\n",
    "# Python has a math module that provides most of the Mathematical functions.\n",
    "# A module is a file that contains a collection of related functions\n",
    "# A module has to be imported and it comes as a module_object\n",
    "import math #this statement is used to import a module\n",
    "# print(math)\n",
    "# To access the functions in a module we use the name of the module with the name of the functions separated by a period\n",
    "# this is called dot_notation\n",
    "\n",
    "# Example: \n",
    "result = math.log10(1000)\n",
    "print(result)\n",
    "\n",
    "# composition\n",
    "# when composing a function the argument can be either a statement or a function or an expresssion\n",
    "# Example\n",
    "result_1 = math.log10((math.sqrt(100))*1000)\n",
    "print(result_1)"
   ]
  },
  {
   "cell_type": "code",
   "execution_count": 12,
   "id": "0b062b4f-eea7-4425-b6bb-bec0f88cb602",
   "metadata": {},
   "outputs": [
    {
     "name": "stdout",
     "output_type": "stream",
     "text": [
      "I'm a lumberjack, and I'm okay.\n",
      "I sleep all night and I work all day.\n"
     ]
    }
   ],
   "source": [
    "#ADDING NEW FUNCTIONS\n",
    "# A function definition specifies the name of the function and the statements to be executed when the function is called\n",
    "# Example:\n",
    "def print_lyrics():\n",
    "    print(\"I'm a lumberjack, and I'm okay.\")\n",
    "    print(\"I sleep all night and I work all day.\")\n",
    "\n",
    "# the keyword def is used to indicate function definition\n",
    "# print_lyrics is the function name\n",
    "# function naming rules are like those of variables\n",
    "# the empty parenthesis indicate that the function takes no arguments\n",
    "\n",
    "# A function has two parts\n",
    "# the first line of the function is called the header while the rest of the function is called the body\n",
    "# the header ends with a colon\n",
    "# the body of the function has to be indented with as many statements as it can\n",
    "# the value of a function is a function object\n",
    "# it's type is function\n",
    "\n",
    "# to use a function you need to call it.\n",
    "# Example:\n",
    "print_lyrics()"
   ]
  },
  {
   "cell_type": "code",
   "execution_count": null,
   "id": "56aa5434-7f2e-4da3-b70b-dabc66f2d9b7",
   "metadata": {},
   "outputs": [],
   "source": [
    "# FLOW OF EXECUTION\n",
    "# Execution begins at the first statement of the program\n",
    "# It takes place one statement at a time from top to bottom\n",
    "\n",
    "# Function definition does not affect flow of execution, because statements in a function are not executed\n",
    "# Until a function is called\n",
    "\n",
    "# A function call directs the flow of execution to the function body,\n",
    "# After the function body finishes to run, then the flow returns to its original paused place and continues\n",
    "\n",
    "# Python is good at keeping track of the flow of execution"
   ]
  },
  {
   "cell_type": "code",
   "execution_count": 1,
   "id": "6de7ae9c-af42-4d18-b001-696b19c4a07c",
   "metadata": {},
   "outputs": [],
   "source": [
    "# PARAMETERS AND ARGUMENTS\n",
    "# Some of the functions we have seen take arguments\n",
    "# Functions can take more that one argument\n",
    "# Inside the functions, arguments are assigned to variables called Parameters\n",
    "# Arguments can be other function or even expresions\n",
    "# Rules of composition apply to the all functions\n",
    "\n",
    "# Variables and Parameters are Local\n",
    "# Variables that are created inside a functon are only available in that function.\n",
    "# thus they are local to the function"
   ]
  },
  {
   "cell_type": "code",
   "execution_count": null,
   "id": "9c445253-5bf9-4135-94fe-1ec662049d1c",
   "metadata": {},
   "outputs": [],
   "source": [
    "# Stack Diagrams\n",
    "# These diagrams show the scope of the variables in a program\n",
    "# it shows which variables belong to which function\n",
    "# Each function is represented by a frame\n",
    "# The frames are arranged in an order that shows parent and child functions\n",
    "# The top most frame represent a function called __main__()\n",
    "# In the case of an error, Python displays the order of functions from where the error ooccured to __main__\n",
    "# This lost of functions is called traceback\n",
    "\n",
    "# The traceback order of functions is the same as that in the Stack diagram\n"
   ]
  },
  {
   "cell_type": "code",
   "execution_count": null,
   "id": "344ef4ad-8576-4e59-aa94-5b21dcbfbe7e",
   "metadata": {},
   "outputs": [],
   "source": [
    "\n",
    "# FRUITFUL FUNCTIONS AND VOID FUNCTIONS\n",
    "# Functions that yield reults are called : Fruitful functions while those that do not are called Void functions\n",
    "# When a fruitful function is created it i assigned to a function in order to capture it's output or use it in an expression\n",
    "# calling a function in interactive mode, its value it is displayed by python, but in script mode its value is lost if not captured\n",
    "\n",
    "# Void functions may print some output on the screen or cause an effect but do not have a return value like fruitful functions\n",
    "# A void functions has a value type of None, whose type() is NoneType\n"
   ]
  },
  {
   "cell_type": "code",
   "execution_count": null,
   "id": "5430f1e4-a53a-447e-b4cc-8b287a616716",
   "metadata": {},
   "outputs": [],
   "source": [
    "# WHY FUNCTIONS\n",
    "# To name a group of statements making, code easy to read.\n",
    "# Eliminates repetetive code\n",
    "# Easy modularize nd debug code\n",
    "# Reuseability for universal functions\n"
   ]
  }
 ],
 "metadata": {
  "kernelspec": {
   "display_name": "Python 3 (ipykernel)",
   "language": "python",
   "name": "python3"
  },
  "language_info": {
   "codemirror_mode": {
    "name": "ipython",
    "version": 3
   },
   "file_extension": ".py",
   "mimetype": "text/x-python",
   "name": "python",
   "nbconvert_exporter": "python",
   "pygments_lexer": "ipython3",
   "version": "3.13.2"
  }
 },
 "nbformat": 4,
 "nbformat_minor": 5
}
